{
  "nbformat": 4,
  "nbformat_minor": 0,
  "metadata": {
    "colab": {
      "provenance": [],
      "include_colab_link": true
    },
    "kernelspec": {
      "name": "python3",
      "display_name": "Python 3"
    },
    "language_info": {
      "name": "python"
    }
  },
  "cells": [
    {
      "cell_type": "markdown",
      "metadata": {
        "id": "view-in-github",
        "colab_type": "text"
      },
      "source": [
        "<a href=\"https://colab.research.google.com/github/haraldriisager/ML-Project/blob/weather-api/Notebook.ipynb\" target=\"_parent\"><img src=\"https://colab.research.google.com/assets/colab-badge.svg\" alt=\"Open In Colab\"/></a>"
      ]
    },
    {
      "cell_type": "code",
      "source": [
        "!pip install gdown\n",
        "!pip install openmeteo-requests\n",
        "!pip install requests-cache retry-requests numpy pandas\n",
        "!pip install tqdm"
      ],
      "metadata": {
        "id": "LWXG8x_1elMA",
        "outputId": "5fac910a-7553-4862-8292-86d828dc29be",
        "colab": {
          "base_uri": "https://localhost:8080/"
        }
      },
      "execution_count": 1,
      "outputs": [
        {
          "output_type": "stream",
          "name": "stdout",
          "text": [
            "Requirement already satisfied: gdown in /usr/local/lib/python3.10/dist-packages (5.2.0)\n",
            "Requirement already satisfied: beautifulsoup4 in /usr/local/lib/python3.10/dist-packages (from gdown) (4.12.3)\n",
            "Requirement already satisfied: filelock in /usr/local/lib/python3.10/dist-packages (from gdown) (3.16.1)\n",
            "Requirement already satisfied: requests[socks] in /usr/local/lib/python3.10/dist-packages (from gdown) (2.32.3)\n",
            "Requirement already satisfied: tqdm in /usr/local/lib/python3.10/dist-packages (from gdown) (4.66.6)\n",
            "Requirement already satisfied: soupsieve>1.2 in /usr/local/lib/python3.10/dist-packages (from beautifulsoup4->gdown) (2.6)\n",
            "Requirement already satisfied: charset-normalizer<4,>=2 in /usr/local/lib/python3.10/dist-packages (from requests[socks]->gdown) (3.4.0)\n",
            "Requirement already satisfied: idna<4,>=2.5 in /usr/local/lib/python3.10/dist-packages (from requests[socks]->gdown) (3.10)\n",
            "Requirement already satisfied: urllib3<3,>=1.21.1 in /usr/local/lib/python3.10/dist-packages (from requests[socks]->gdown) (2.2.3)\n",
            "Requirement already satisfied: certifi>=2017.4.17 in /usr/local/lib/python3.10/dist-packages (from requests[socks]->gdown) (2024.8.30)\n",
            "Requirement already satisfied: PySocks!=1.5.7,>=1.5.6 in /usr/local/lib/python3.10/dist-packages (from requests[socks]->gdown) (1.7.1)\n",
            "Collecting openmeteo-requests\n",
            "  Downloading openmeteo_requests-1.3.0-py3-none-any.whl.metadata (9.7 kB)\n",
            "Collecting openmeteo-sdk>=1.4.0 (from openmeteo-requests)\n",
            "  Downloading openmeteo_sdk-1.18.0-py3-none-any.whl.metadata (934 bytes)\n",
            "Requirement already satisfied: requests in /usr/local/lib/python3.10/dist-packages (from openmeteo-requests) (2.32.3)\n",
            "Requirement already satisfied: flatbuffers>=24.0.0 in /usr/local/lib/python3.10/dist-packages (from openmeteo-sdk>=1.4.0->openmeteo-requests) (24.3.25)\n",
            "Requirement already satisfied: charset-normalizer<4,>=2 in /usr/local/lib/python3.10/dist-packages (from requests->openmeteo-requests) (3.4.0)\n",
            "Requirement already satisfied: idna<4,>=2.5 in /usr/local/lib/python3.10/dist-packages (from requests->openmeteo-requests) (3.10)\n",
            "Requirement already satisfied: urllib3<3,>=1.21.1 in /usr/local/lib/python3.10/dist-packages (from requests->openmeteo-requests) (2.2.3)\n",
            "Requirement already satisfied: certifi>=2017.4.17 in /usr/local/lib/python3.10/dist-packages (from requests->openmeteo-requests) (2024.8.30)\n",
            "Downloading openmeteo_requests-1.3.0-py3-none-any.whl (6.0 kB)\n",
            "Downloading openmeteo_sdk-1.18.0-py3-none-any.whl (7.6 kB)\n",
            "Installing collected packages: openmeteo-sdk, openmeteo-requests\n",
            "Successfully installed openmeteo-requests-1.3.0 openmeteo-sdk-1.18.0\n",
            "Collecting requests-cache\n",
            "  Downloading requests_cache-1.2.1-py3-none-any.whl.metadata (9.9 kB)\n",
            "Collecting retry-requests\n",
            "  Downloading retry_requests-2.0.0-py3-none-any.whl.metadata (2.6 kB)\n",
            "Requirement already satisfied: numpy in /usr/local/lib/python3.10/dist-packages (1.26.4)\n",
            "Requirement already satisfied: pandas in /usr/local/lib/python3.10/dist-packages (2.2.2)\n",
            "Requirement already satisfied: attrs>=21.2 in /usr/local/lib/python3.10/dist-packages (from requests-cache) (24.2.0)\n",
            "Collecting cattrs>=22.2 (from requests-cache)\n",
            "  Downloading cattrs-24.1.2-py3-none-any.whl.metadata (8.4 kB)\n",
            "Requirement already satisfied: platformdirs>=2.5 in /usr/local/lib/python3.10/dist-packages (from requests-cache) (4.3.6)\n",
            "Requirement already satisfied: requests>=2.22 in /usr/local/lib/python3.10/dist-packages (from requests-cache) (2.32.3)\n",
            "Collecting url-normalize>=1.4 (from requests-cache)\n",
            "  Downloading url_normalize-1.4.3-py2.py3-none-any.whl.metadata (3.1 kB)\n",
            "Requirement already satisfied: urllib3>=1.25.5 in /usr/local/lib/python3.10/dist-packages (from requests-cache) (2.2.3)\n",
            "Requirement already satisfied: python-dateutil>=2.8.2 in /usr/local/lib/python3.10/dist-packages (from pandas) (2.8.2)\n",
            "Requirement already satisfied: pytz>=2020.1 in /usr/local/lib/python3.10/dist-packages (from pandas) (2024.2)\n",
            "Requirement already satisfied: tzdata>=2022.7 in /usr/local/lib/python3.10/dist-packages (from pandas) (2024.2)\n",
            "Requirement already satisfied: exceptiongroup>=1.1.1 in /usr/local/lib/python3.10/dist-packages (from cattrs>=22.2->requests-cache) (1.2.2)\n",
            "Requirement already satisfied: typing-extensions!=4.6.3,>=4.1.0 in /usr/local/lib/python3.10/dist-packages (from cattrs>=22.2->requests-cache) (4.12.2)\n",
            "Requirement already satisfied: six>=1.5 in /usr/local/lib/python3.10/dist-packages (from python-dateutil>=2.8.2->pandas) (1.16.0)\n",
            "Requirement already satisfied: charset-normalizer<4,>=2 in /usr/local/lib/python3.10/dist-packages (from requests>=2.22->requests-cache) (3.4.0)\n",
            "Requirement already satisfied: idna<4,>=2.5 in /usr/local/lib/python3.10/dist-packages (from requests>=2.22->requests-cache) (3.10)\n",
            "Requirement already satisfied: certifi>=2017.4.17 in /usr/local/lib/python3.10/dist-packages (from requests>=2.22->requests-cache) (2024.8.30)\n",
            "Downloading requests_cache-1.2.1-py3-none-any.whl (61 kB)\n",
            "\u001b[2K   \u001b[90m━━━━━━━━━━━━━━━━━━━━━━━━━━━━━━━━━━━━━━━━\u001b[0m \u001b[32m61.4/61.4 kB\u001b[0m \u001b[31m4.3 MB/s\u001b[0m eta \u001b[36m0:00:00\u001b[0m\n",
            "\u001b[?25hDownloading retry_requests-2.0.0-py3-none-any.whl (15 kB)\n",
            "Downloading cattrs-24.1.2-py3-none-any.whl (66 kB)\n",
            "\u001b[2K   \u001b[90m━━━━━━━━━━━━━━━━━━━━━━━━━━━━━━━━━━━━━━━━\u001b[0m \u001b[32m66.4/66.4 kB\u001b[0m \u001b[31m6.7 MB/s\u001b[0m eta \u001b[36m0:00:00\u001b[0m\n",
            "\u001b[?25hDownloading url_normalize-1.4.3-py2.py3-none-any.whl (6.8 kB)\n",
            "Installing collected packages: url-normalize, cattrs, retry-requests, requests-cache\n",
            "Successfully installed cattrs-24.1.2 requests-cache-1.2.1 retry-requests-2.0.0 url-normalize-1.4.3\n",
            "Requirement already satisfied: tqdm in /usr/local/lib/python3.10/dist-packages (4.66.6)\n"
          ]
        }
      ]
    },
    {
      "cell_type": "code",
      "source": [
        "import gdown\n",
        "import pandas as pd\n",
        "import openmeteo_requests\n",
        "from openmeteo_sdk.Variable import Variable\n",
        "import requests_cache\n",
        "from requests_cache import CachedSession\n",
        "from retry_requests import retry\n",
        "from datetime import datetime, timedelta\n",
        "from tqdm import tqdm\n",
        "import pickle"
      ],
      "metadata": {
        "id": "hITlT10JOT9y"
      },
      "execution_count": 2,
      "outputs": []
    },
    {
      "cell_type": "code",
      "source": [
        "# Import Flight Delay data set\n",
        "\n",
        "file_id = '14aF7ZORUZFGKoAG7IE9Cd6vjTLtU2ytz'\n",
        "gdown.download(f'https://drive.google.com/uc?id={file_id}', 'data.csv', quiet=False)\n",
        "df = pd.read_csv('data.csv')\n",
        "\n",
        "print(df.columns)\n",
        "print(df.shape[0])"
      ],
      "metadata": {
        "id": "xrsZyQIgLrt2",
        "outputId": "79d5b033-4988-43b3-e61f-340ed961a6ef",
        "colab": {
          "base_uri": "https://localhost:8080/"
        }
      },
      "execution_count": 3,
      "outputs": [
        {
          "output_type": "stream",
          "name": "stderr",
          "text": [
            "Downloading...\n",
            "From (original): https://drive.google.com/uc?id=14aF7ZORUZFGKoAG7IE9Cd6vjTLtU2ytz\n",
            "From (redirected): https://drive.google.com/uc?id=14aF7ZORUZFGKoAG7IE9Cd6vjTLtU2ytz&confirm=t&uuid=2343fe02-a659-4f46-b522-6b5a07c7191b\n",
            "To: /content/data.csv\n",
            "100%|██████████| 614M/614M [00:11<00:00, 55.8MB/s]\n"
          ]
        },
        {
          "output_type": "stream",
          "name": "stdout",
          "text": [
            "Index(['FL_DATE', 'AIRLINE', 'AIRLINE_DOT', 'AIRLINE_CODE', 'DOT_CODE',\n",
            "       'FL_NUMBER', 'ORIGIN', 'ORIGIN_CITY', 'DEST', 'DEST_CITY',\n",
            "       'CRS_DEP_TIME', 'DEP_TIME', 'DEP_DELAY', 'TAXI_OUT', 'WHEELS_OFF',\n",
            "       'WHEELS_ON', 'TAXI_IN', 'CRS_ARR_TIME', 'ARR_TIME', 'ARR_DELAY',\n",
            "       'CANCELLED', 'CANCELLATION_CODE', 'DIVERTED', 'CRS_ELAPSED_TIME',\n",
            "       'ELAPSED_TIME', 'AIR_TIME', 'DISTANCE', 'DELAY_DUE_CARRIER',\n",
            "       'DELAY_DUE_WEATHER', 'DELAY_DUE_NAS', 'DELAY_DUE_SECURITY',\n",
            "       'DELAY_DUE_LATE_AIRCRAFT'],\n",
            "      dtype='object')\n",
            "3000000\n"
          ]
        }
      ]
    },
    {
      "cell_type": "code",
      "source": [
        "# Import Airport locations data set\n",
        "\n",
        "file_id = '1eK1b3XX3jl-9XtQrH-_924YjV3rlqUFB'\n",
        "gdown.download(f'https://drive.google.com/uc?id={file_id}', 'airport_locations.csv', quiet=False)\n",
        "airport_locations = pd.read_csv('airport_locations.csv', delimiter=';')\n",
        "\n",
        "airport_locations = airport_locations[['Airport Code', 'Latitude', 'Longitude']].dropna()\n",
        "airport_locations = airport_locations.set_index('Airport Code').to_dict(orient='index')"
      ],
      "metadata": {
        "id": "N1vRDaQRSsSn",
        "outputId": "4bac980f-8850-43b3-ced3-bd19c5accdf2",
        "colab": {
          "base_uri": "https://localhost:8080/"
        }
      },
      "execution_count": 4,
      "outputs": [
        {
          "output_type": "stream",
          "name": "stderr",
          "text": [
            "Downloading...\n",
            "From: https://drive.google.com/uc?id=1eK1b3XX3jl-9XtQrH-_924YjV3rlqUFB\n",
            "To: /content/airport_locations.csv\n",
            "100%|██████████| 875k/875k [00:00<00:00, 9.55MB/s]\n"
          ]
        }
      ]
    },
    {
      "cell_type": "code",
      "source": [
        "# Append the origin and destination coordinates to the data set\n",
        "\n",
        "def get_airport_coordinates(airport_code):\n",
        "  if airport_code in airport_locations:\n",
        "    return airport_locations[airport_code]['Latitude'], airport_locations[airport_code]['Longitude']\n",
        "  return None, None\n",
        "\n",
        "df[\"ORIGIN_LAT\"], df[\"ORIGIN_LONG\"] = zip(*df[\"ORIGIN\"].apply(get_airport_coordinates))\n",
        "df[\"DEST_LAT\"], df[\"DEST_LONG\"] = zip(*df[\"DEST\"].apply(get_airport_coordinates))"
      ],
      "metadata": {
        "id": "lEAMiXh8Rzmq"
      },
      "execution_count": 5,
      "outputs": []
    },
    {
      "cell_type": "code",
      "source": [
        "# Remove rows that have null coordinates\n",
        "\n",
        "missing_coordinates_rows = df[df[['ORIGIN_LAT', 'ORIGIN_LONG', 'DEST_LAT', 'DEST_LONG']].isna().any(axis=1)]\n",
        "\n",
        "missing_count = missing_coordinates_rows.shape[0]\n",
        "\n",
        "missing_origin = set(missing_coordinates_rows['ORIGIN'])\n",
        "missing_destination = set(missing_coordinates_rows['DEST'])\n",
        "missing_airports = missing_origin.union(missing_destination)\n",
        "\n",
        "print(\"Airport codes with missing coordinates:\", list(missing_airports))\n",
        "print(\"Number of rows with missing coordinates:\", missing_count)\n",
        "\n",
        "df = df.dropna(subset=['ORIGIN_LAT', 'ORIGIN_LONG', 'DEST_LAT', 'DEST_LONG'])\n",
        "\n",
        "print(\"Number of rows after removal:\", df.shape[0])\n",
        "\n",
        "df = df[:10000]\n",
        "\n",
        "print(\"Number of rows after removal:\", df.shape[0])"
      ],
      "metadata": {
        "id": "DeKREx0xz2Kx",
        "outputId": "e5bf0b28-8100-45bb-a202-fc6a64cf5756",
        "colab": {
          "base_uri": "https://localhost:8080/"
        }
      },
      "execution_count": 6,
      "outputs": [
        {
          "output_type": "stream",
          "name": "stdout",
          "text": [
            "Airport codes with missing coordinates: ['PIT', 'PBI', 'FAR', 'PIA', 'MDW', 'MVY', 'SPI', 'SAN', 'ATL', 'CVG', 'SRQ', 'FWA', 'BIS', 'MSO', 'XNA', 'MEM', 'GRR', 'OGD', 'CID', 'MFR', 'ICT', 'TXK', 'FCA', 'VPS', 'BLV', 'PHL', 'STC', 'GRI', 'GJT', 'IAH', 'USA', 'BIL', 'DCA', 'TUL', 'BWI', 'SBN', 'LGA', 'GTF', 'LAS', 'DSM', 'CMH', 'FSD', 'SGU', 'STL', 'TUS', 'ATW', 'HOU', 'MKE', 'SMX', 'DAL', 'BZN', 'JFK', 'TOL', 'GEG', 'CSG', 'XWA', 'AZA', 'ECP', 'MCI', 'MLI', 'IDA', 'MSY', 'BOI', 'SCK', 'SFB', 'MLB', 'ORD', 'MOT', 'BNA', 'PSC', 'RFD', 'OMA', 'HPN', 'FNT', 'EUG', 'RDM', 'EWR', 'GFK', 'MSP', 'TVC', 'CLT', 'DEN', 'SGF', 'BKG', 'DFW', 'FLL', 'SNA', 'BLI', 'PIE', 'MFE', 'AMA', 'RAP', 'IND', 'AUS', 'PVU', 'OAK', 'JAC', 'PGD', 'BOS']\n",
            "Number of rows with missing coordinates: 17348\n",
            "Number of rows after removal: 2982652\n",
            "Number of rows after removal: 10000\n"
          ]
        }
      ]
    },
    {
      "cell_type": "code",
      "source": [
        "# Format departure and arrival times to ensure they are in 'HH:MM' format\n",
        "df[\"CRS_DEP_TIME\"] = df[\"CRS_DEP_TIME\"].apply(lambda x: f\"{str(int(x)).zfill(4)[:2]}:{str(int(x)).zfill(4)[2:]}\")\n",
        "df[\"CRS_ARR_TIME\"] = df[\"CRS_ARR_TIME\"].apply(lambda x: f\"{str(int(x)).zfill(4)[:2]}:{str(int(x)).zfill(4)[2:]}\")\n",
        "\n",
        "# Verify that times are properly formatted as 'HH:MM'\n",
        "print(df[[\"CRS_DEP_TIME\", \"CRS_ARR_TIME\"]].head())"
      ],
      "metadata": {
        "id": "BjYM6c4c1_xL",
        "outputId": "81ac7ef4-59d5-4cfc-d07f-87fab00997f5",
        "colab": {
          "base_uri": "https://localhost:8080/"
        }
      },
      "execution_count": 7,
      "outputs": [
        {
          "output_type": "stream",
          "name": "stdout",
          "text": [
            "  CRS_DEP_TIME CRS_ARR_TIME\n",
            "0        11:55        15:01\n",
            "1        21:20        23:15\n",
            "2        09:54        12:52\n",
            "3        16:09        18:29\n",
            "4        18:40        20:41\n"
          ]
        }
      ]
    },
    {
      "cell_type": "code",
      "source": [
        "# Setup the Open-Meteo API client with cache and retry on error\n",
        "cache_session = requests_cache.CachedSession('.cache', expire_after = -1)\n",
        "retry_session = retry(cache_session, retries = 5, backoff_factor = 0.2)\n",
        "openmeteo = openmeteo_requests.Client(session = retry_session)\n",
        "url = \"https://archive-api.open-meteo.com/v1/archive\""
      ],
      "metadata": {
        "id": "7MGV7mZmKd4K"
      },
      "execution_count": 8,
      "outputs": []
    },
    {
      "cell_type": "code",
      "source": [
        "def save_progress(data, filename):\n",
        "    with open(filename, \"wb\") as f:\n",
        "        pickle.dump(data, f)\n",
        "\n",
        "def load_progress(filename):\n",
        "    try:\n",
        "        with open(filename, \"rb\") as f:\n",
        "            return pickle.load(f)\n",
        "    except FileNotFoundError:\n",
        "        return []"
      ],
      "metadata": {
        "id": "6snwnaayZrsd"
      },
      "execution_count": 9,
      "outputs": []
    },
    {
      "cell_type": "code",
      "source": [
        "def get_weather_data(date, time, latitude, longitude):\n",
        "\n",
        "  flight_datetime = datetime.strptime(f\"{date} {time}\", \"%Y-%m-%d %H:%M\")\n",
        "  start_date = flight_datetime.strftime(\"%Y-%m-%d\")\n",
        "  end_date = (flight_datetime + timedelta(hours=1)).strftime(\"%Y-%m-%d\")\n",
        "\n",
        "  params = {\n",
        "    \"latitude\": latitude,\n",
        "    \"longitude\": longitude,\n",
        "    \"start_date\": date,\n",
        "    \"end_date\": date,\n",
        "    \"hourly\": [\n",
        "        \"temperature_2m\",\n",
        "        \"precipitation\",\n",
        "        \"rain\",\n",
        "        \"snowfall\",\n",
        "        \"weather_code\",\n",
        "        \"windspeed_10m\",\n",
        "        \"windspeed_100m\",\n",
        "        \"winddirection_10m\",\n",
        "        \"winddirection_100m\",\n",
        "        \"windgusts_10m\",\n",
        "    ],\n",
        "    \"timezone\": \"auto\"\n",
        "  }\n",
        "\n",
        "  responses = openmeteo.weather_api(url, params=params)\n",
        "\n",
        "  if responses and isinstance(responses, list):\n",
        "    response = responses[0]\n",
        "    hourly_data = response.Hourly() if response else None\n",
        "  else:\n",
        "    hourly_data = None\n",
        "\n",
        "  if hourly_data:\n",
        "    hourly_variables = list(map(lambda i: hourly_data.Variables(i), range(0, hourly_data.VariablesLength())))\n",
        "\n",
        "    weather_data = {}\n",
        "\n",
        "    try:\n",
        "        weather_data[\"temperature_2m\"] = next(\n",
        "            filter(lambda x: x.Variable() == Variable.temperature and x.Altitude() == 2, hourly_variables)\n",
        "        ).ValuesAsNumpy()\n",
        "        weather_data[\"precipitation\"] = next(\n",
        "            filter(lambda x: x.Variable() == Variable.precipitation, hourly_variables)\n",
        "        ).ValuesAsNumpy()\n",
        "        weather_data[\"rain\"] = next(\n",
        "            filter(lambda x: x.Variable() == Variable.rain, hourly_variables)\n",
        "        ).ValuesAsNumpy()\n",
        "        weather_data[\"snowfall\"] = next(\n",
        "            filter(lambda x: x.Variable() == Variable.snowfall, hourly_variables)\n",
        "        ).ValuesAsNumpy()\n",
        "        weather_data[\"windspeed_10m\"] = next(\n",
        "            filter(lambda x: x.Variable() == Variable.wind_speed and x.Altitude() == 10, hourly_variables)\n",
        "        ).ValuesAsNumpy()\n",
        "        weather_data[\"windspeed_100m\"] = next(\n",
        "            filter(lambda x: x.Variable() == Variable.wind_speed and x.Altitude() == 100, hourly_variables)\n",
        "        ).ValuesAsNumpy()\n",
        "        weather_data[\"winddirection_10m\"] = next(\n",
        "            filter(lambda x: x.Variable() == Variable.wind_direction and x.Altitude() == 10, hourly_variables)\n",
        "        ).ValuesAsNumpy()\n",
        "        weather_data[\"winddirection_100m\"] = next(\n",
        "            filter(lambda x: x.Variable() == Variable.wind_direction and x.Altitude() == 100, hourly_variables)\n",
        "        ).ValuesAsNumpy()\n",
        "        weather_data[\"windgusts_10m\"] = next(\n",
        "            filter(lambda x: x.Variable() == Variable.wind_gusts and x.Altitude() == 10, hourly_variables)\n",
        "        ).ValuesAsNumpy()\n",
        "    except StopIteration:\n",
        "        print(\"One or more weather variables were not found in the response.\")\n",
        "        return None\n",
        "\n",
        "    return weather_data\n",
        "\n",
        "  return None"
      ],
      "metadata": {
        "id": "4dKGrj2bMgjl"
      },
      "execution_count": 10,
      "outputs": []
    },
    {
      "cell_type": "code",
      "source": [
        "origin_weather_data = load_progress(\"origin_weather.pkl\")\n",
        "destination_weather_data = load_progress(\"destination_weather.pkl\")\n",
        "\n",
        "# Fetch weather data\n",
        "for index, row in tqdm(df.iterrows(), total=len(df), desc=\"Fetching weather data\"):\n",
        "        if index < len(origin_weather_data):\n",
        "            if index % 200 == 0:\n",
        "                print(\"still works\")\n",
        "            continue  # Skip already processed rows\n",
        "\n",
        "        # Fetch origin weather\n",
        "        origin_weather = get_weather_data(row[\"FL_DATE\"], row[\"CRS_DEP_TIME\"], row[\"ORIGIN_LAT\"], row[\"ORIGIN_LONG\"])\n",
        "        origin_weather_data.append(origin_weather)\n",
        "        save_progress(origin_weather_data, \"origin_weather.pkl\")\n",
        "\n",
        "        # Fetch destination weather\n",
        "        destination_weather = get_weather_data(row[\"FL_DATE\"], row[\"CRS_ARR_TIME\"], row[\"DEST_LAT\"], row[\"DEST_LONG\"])\n",
        "        destination_weather_data.append(destination_weather)\n",
        "        save_progress(destination_weather_data, \"destination_weather.pkl\")\n",
        "\n",
        "# Create DataFrames from weather data\n",
        "origin_weather_df = pd.DataFrame(origin_weather_data).add_prefix('origin_')\n",
        "destination_weather_df = pd.DataFrame(destination_weather_data).add_prefix('destination_')\n",
        "\n",
        "# Combine with the main DataFrame\n",
        "df = pd.concat([df, origin_weather_df, destination_weather_df], axis=1)\n",
        "\n",
        "print(df.head())\n"
      ],
      "metadata": {
        "id": "tl8tlDLXRIeN",
        "outputId": "b4397aa2-576c-4f2a-f35f-64bf06333983",
        "colab": {
          "base_uri": "https://localhost:8080/"
        }
      },
      "execution_count": 11,
      "outputs": [
        {
          "output_type": "stream",
          "name": "stderr",
          "text": [
            "Fetching weather data:  39%|███▉      | 3911/10000 [00:00<00:00, 19835.27it/s]"
          ]
        },
        {
          "output_type": "stream",
          "name": "stdout",
          "text": [
            "still works\n",
            "still works\n",
            "still works\n",
            "still works\n",
            "still works\n",
            "still works\n",
            "still works\n",
            "still works\n",
            "still works\n",
            "still works\n",
            "still works\n",
            "still works\n",
            "still works\n",
            "still works\n",
            "still works\n",
            "still works\n",
            "still works\n",
            "still works\n",
            "still works\n",
            "still works\n",
            "still works\n",
            "still works\n",
            "still works\n",
            "still works\n",
            "still works\n",
            "still works\n"
          ]
        },
        {
          "output_type": "stream",
          "name": "stderr",
          "text": [
            "Fetching weather data: 100%|██████████| 10000/10000 [2:24:58<00:00,  1.15it/s]"
          ]
        },
        {
          "output_type": "stream",
          "name": "stdout",
          "text": [
            "      FL_DATE                AIRLINE                AIRLINE_DOT AIRLINE_CODE  \\\n",
            "0  2019-01-09  United Air Lines Inc.  United Air Lines Inc.: UA           UA   \n",
            "1  2022-11-19   Delta Air Lines Inc.   Delta Air Lines Inc.: DL           DL   \n",
            "2  2022-07-22  United Air Lines Inc.  United Air Lines Inc.: UA           UA   \n",
            "3  2023-03-06   Delta Air Lines Inc.   Delta Air Lines Inc.: DL           DL   \n",
            "4  2020-02-23       Spirit Air Lines       Spirit Air Lines: NK           NK   \n",
            "\n",
            "   DOT_CODE  FL_NUMBER ORIGIN          ORIGIN_CITY DEST  \\\n",
            "0   19977.0     1562.0    FLL  Fort Lauderdale, FL  EWR   \n",
            "1   19790.0     1149.0    MSP      Minneapolis, MN  SEA   \n",
            "2   19977.0      459.0    DEN           Denver, CO  MSP   \n",
            "3   19790.0     2295.0    MSP      Minneapolis, MN  SFO   \n",
            "4   20416.0      407.0    MCO          Orlando, FL  DFW   \n",
            "\n",
            "               DEST_CITY  ...  \\\n",
            "0             Newark, NJ  ...   \n",
            "1            Seattle, WA  ...   \n",
            "2        Minneapolis, MN  ...   \n",
            "3      San Francisco, CA  ...   \n",
            "4  Dallas/Fort Worth, TX  ...   \n",
            "\n",
            "                                origin_windgusts_10m  \\\n",
            "0  [11.159999, 10.799999, 10.799999, 10.08, 11.15...   \n",
            "1  [34.56, 33.12, 36.719997, 38.519997, 39.96, 41...   \n",
            "2  [34.2, 32.399998, 30.239998, 17.28, 12.959999,...   \n",
            "3  [39.96, 39.96, 38.519997, 35.28, 32.760002, 28...   \n",
            "4  [24.84, 24.48, 23.4, 22.319998, 17.28, 15.84, ...   \n",
            "\n",
            "                          destination_temperature_2m  \\\n",
            "0  [4.9430003, 4.993, 4.993, 5.593, 4.843, 4.1930...   \n",
            "1  [1.018, -0.23200001, -0.23200001, -0.38200003,...   \n",
            "2  [21.175999, 20.876, 22.075998, 21.976, 21.376,...   \n",
            "3  [4.8375, 4.7875004, 4.7375, 4.4875, 5.5875, 5....   \n",
            "4  [8.981, 9.031, 9.431001, 9.3810005, 9.531, 9.5...   \n",
            "\n",
            "                           destination_precipitation  \\\n",
            "0  [2.1, 0.5, 0.1, 0.0, 0.0, 0.0, 0.0, 0.0, 0.0, ...   \n",
            "1  [0.0, 0.0, 0.0, 0.0, 0.0, 0.0, 0.0, 0.0, 0.0, ...   \n",
            "2  [0.0, 0.0, 0.0, 0.0, 0.0, 0.0, 0.0, 0.0, 0.0, ...   \n",
            "3  [0.0, 0.0, 0.0, 0.2, 0.2, 0.3, 0.6, 0.7, 0.1, ...   \n",
            "4  [0.0, 0.0, 0.0, 0.0, 0.0, 0.0, 0.0, 0.0, 0.0, ...   \n",
            "\n",
            "                                    destination_rain  \\\n",
            "0  [2.1, 0.5, 0.1, 0.0, 0.0, 0.0, 0.0, 0.0, 0.0, ...   \n",
            "1  [0.0, 0.0, 0.0, 0.0, 0.0, 0.0, 0.0, 0.0, 0.0, ...   \n",
            "2  [0.0, 0.0, 0.0, 0.0, 0.0, 0.0, 0.0, 0.0, 0.0, ...   \n",
            "3  [0.0, 0.0, 0.0, 0.2, 0.2, 0.3, 0.6, 0.7, 0.1, ...   \n",
            "4  [0.0, 0.0, 0.0, 0.0, 0.0, 0.0, 0.0, 0.0, 0.0, ...   \n",
            "\n",
            "                                destination_snowfall  \\\n",
            "0  [0.0, 0.0, 0.0, 0.0, 0.0, 0.0, 0.0, 0.0, 0.0, ...   \n",
            "1  [0.0, 0.0, 0.0, 0.0, 0.0, 0.0, 0.0, 0.0, 0.0, ...   \n",
            "2  [0.0, 0.0, 0.0, 0.0, 0.0, 0.0, 0.0, 0.0, 0.0, ...   \n",
            "3  [0.0, 0.0, 0.0, 0.0, 0.0, 0.0, 0.0, 0.0, 0.0, ...   \n",
            "4  [0.0, 0.0, 0.0, 0.0, 0.0, 0.0, 0.0, 0.0, 0.0, ...   \n",
            "\n",
            "                           destination_windspeed_10m  \\\n",
            "0  [9.72, 11.525623, 19.930477, 26.400545, 26.341...   \n",
            "1  [8.350138, 9.746631, 8.699793, 8.587338, 6.193...   \n",
            "2  [10.464797, 12.538134, 22.218153, 20.46941, 11...   \n",
            "3  [7.5942073, 7.5942073, 6.8399997, 6.830519, 7....   \n",
            "4  [16.454008, 16.203999, 17.643673, 18.359999, 1...   \n",
            "\n",
            "                          destination_windspeed_100m  \\\n",
            "0  [21.626984, 21.599998, 35.65454, 43.9436, 44.2...   \n",
            "1  [22.768398, 18.345877, 16.575644, 16.62249, 15...   \n",
            "2  [24.066206, 27.257967, 40.377815, 36.204617, 2...   \n",
            "3  [18.228943, 17.81909, 16.75064, 15.517629, 17....   \n",
            "4  [32.09052, 32.072342, 33.21573, 33.528355, 31....   \n",
            "\n",
            "                       destination_winddirection_10m  \\\n",
            "0  [180.0, 271.78986, 249.92838, 264.5227, 266.08...   \n",
            "1  [97.43131, 85.76369, 65.55606, 56.976128, 54.4...   \n",
            "2  [229.18501, 230.82635, 243.01984, 246.13982, 2...   \n",
            "3  [174.55975, 174.55975, 180.0, 161.56496, 109.2...   \n",
            "4  [169.91946, 178.727, 181.16911, 180.0, 185.946...   \n",
            "\n",
            "                      destination_winddirection_100m  \\\n",
            "0  [182.86235, 270.0, 253.57774, 268.12216, 268.6...   \n",
            "1  [108.43504, 105.945465, 92.4895, 85.03035, 85....   \n",
            "2  [235.359, 236.3099, 248.00882, 250.84428, 243....   \n",
            "3  [189.0902, 188.13002, 188.65247, 176.00917, 13...   \n",
            "4  [176.78458, 182.5733, 184.351, 183.0774, 189.2...   \n",
            "\n",
            "                           destination_windgusts_10m  \n",
            "0  [38.16, 20.880001, 32.399998, 44.639996, 47.16...  \n",
            "1  [16.919998, 15.119999, 15.119999, 14.04, 14.04...  \n",
            "2  [19.08, 21.96, 41.760002, 47.16, 43.56, 23.4, ...  \n",
            "3  [14.4, 14.4, 14.04, 13.32, 13.32, 16.919998, 1...  \n",
            "4  [26.28, 26.64, 27.72, 29.16, 29.88, 27.72, 27....  \n",
            "\n",
            "[5 rows x 54 columns]\n"
          ]
        },
        {
          "output_type": "stream",
          "name": "stderr",
          "text": [
            "\n"
          ]
        }
      ]
    },
    {
      "cell_type": "code",
      "source": [
        "# Select only the features that we want\n",
        "\n",
        "required_columns = [\n",
        "    'FL_DATE',\n",
        "    'AIRLINE',\n",
        "    'FL_NUMBER',\n",
        "    'ORIGIN',\n",
        "    'DEST',\n",
        "    'CRS_DEP_TIME',\n",
        "    'CRS_ARR_TIME',\n",
        "    'CRS_ELAPSED_TIME',\n",
        "    'DISTANCE',\n",
        "    'DEP_DELAY',\n",
        "    'ARR_DELAY',\n",
        "    'DELAY_DUE_WEATHER'\n",
        "]\n",
        "\n",
        "weather_columns = [col for col in df.columns if col.startswith('origin_') or col.startswith('destination_')]\n",
        "\n",
        "final_columns = required_columns + weather_columns\n",
        "\n",
        "df = df[final_columns]\n",
        "\n",
        "print(df.head())"
      ],
      "metadata": {
        "id": "4y279QsNaPyO",
        "outputId": "5e683c3d-c621-4fa0-db22-1877784ef107",
        "colab": {
          "base_uri": "https://localhost:8080/"
        }
      },
      "execution_count": 12,
      "outputs": [
        {
          "output_type": "stream",
          "name": "stdout",
          "text": [
            "      FL_DATE                AIRLINE  FL_NUMBER ORIGIN DEST CRS_DEP_TIME  \\\n",
            "0  2019-01-09  United Air Lines Inc.     1562.0    FLL  EWR        11:55   \n",
            "1  2022-11-19   Delta Air Lines Inc.     1149.0    MSP  SEA        21:20   \n",
            "2  2022-07-22  United Air Lines Inc.      459.0    DEN  MSP        09:54   \n",
            "3  2023-03-06   Delta Air Lines Inc.     2295.0    MSP  SFO        16:09   \n",
            "4  2020-02-23       Spirit Air Lines      407.0    MCO  DFW        18:40   \n",
            "\n",
            "  CRS_ARR_TIME  CRS_ELAPSED_TIME  DISTANCE  DEP_DELAY  ...  \\\n",
            "0        15:01             186.0    1065.0       -4.0  ...   \n",
            "1        23:15             235.0    1399.0       -6.0  ...   \n",
            "2        12:52             118.0     680.0        6.0  ...   \n",
            "3        18:29             260.0    1589.0       -1.0  ...   \n",
            "4        20:41             181.0     985.0       -2.0  ...   \n",
            "\n",
            "                                origin_windgusts_10m  \\\n",
            "0  [11.159999, 10.799999, 10.799999, 10.08, 11.15...   \n",
            "1  [34.56, 33.12, 36.719997, 38.519997, 39.96, 41...   \n",
            "2  [34.2, 32.399998, 30.239998, 17.28, 12.959999,...   \n",
            "3  [39.96, 39.96, 38.519997, 35.28, 32.760002, 28...   \n",
            "4  [24.84, 24.48, 23.4, 22.319998, 17.28, 15.84, ...   \n",
            "\n",
            "                          destination_temperature_2m  \\\n",
            "0  [4.9430003, 4.993, 4.993, 5.593, 4.843, 4.1930...   \n",
            "1  [1.018, -0.23200001, -0.23200001, -0.38200003,...   \n",
            "2  [21.175999, 20.876, 22.075998, 21.976, 21.376,...   \n",
            "3  [4.8375, 4.7875004, 4.7375, 4.4875, 5.5875, 5....   \n",
            "4  [8.981, 9.031, 9.431001, 9.3810005, 9.531, 9.5...   \n",
            "\n",
            "                           destination_precipitation  \\\n",
            "0  [2.1, 0.5, 0.1, 0.0, 0.0, 0.0, 0.0, 0.0, 0.0, ...   \n",
            "1  [0.0, 0.0, 0.0, 0.0, 0.0, 0.0, 0.0, 0.0, 0.0, ...   \n",
            "2  [0.0, 0.0, 0.0, 0.0, 0.0, 0.0, 0.0, 0.0, 0.0, ...   \n",
            "3  [0.0, 0.0, 0.0, 0.2, 0.2, 0.3, 0.6, 0.7, 0.1, ...   \n",
            "4  [0.0, 0.0, 0.0, 0.0, 0.0, 0.0, 0.0, 0.0, 0.0, ...   \n",
            "\n",
            "                                    destination_rain  \\\n",
            "0  [2.1, 0.5, 0.1, 0.0, 0.0, 0.0, 0.0, 0.0, 0.0, ...   \n",
            "1  [0.0, 0.0, 0.0, 0.0, 0.0, 0.0, 0.0, 0.0, 0.0, ...   \n",
            "2  [0.0, 0.0, 0.0, 0.0, 0.0, 0.0, 0.0, 0.0, 0.0, ...   \n",
            "3  [0.0, 0.0, 0.0, 0.2, 0.2, 0.3, 0.6, 0.7, 0.1, ...   \n",
            "4  [0.0, 0.0, 0.0, 0.0, 0.0, 0.0, 0.0, 0.0, 0.0, ...   \n",
            "\n",
            "                                destination_snowfall  \\\n",
            "0  [0.0, 0.0, 0.0, 0.0, 0.0, 0.0, 0.0, 0.0, 0.0, ...   \n",
            "1  [0.0, 0.0, 0.0, 0.0, 0.0, 0.0, 0.0, 0.0, 0.0, ...   \n",
            "2  [0.0, 0.0, 0.0, 0.0, 0.0, 0.0, 0.0, 0.0, 0.0, ...   \n",
            "3  [0.0, 0.0, 0.0, 0.0, 0.0, 0.0, 0.0, 0.0, 0.0, ...   \n",
            "4  [0.0, 0.0, 0.0, 0.0, 0.0, 0.0, 0.0, 0.0, 0.0, ...   \n",
            "\n",
            "                           destination_windspeed_10m  \\\n",
            "0  [9.72, 11.525623, 19.930477, 26.400545, 26.341...   \n",
            "1  [8.350138, 9.746631, 8.699793, 8.587338, 6.193...   \n",
            "2  [10.464797, 12.538134, 22.218153, 20.46941, 11...   \n",
            "3  [7.5942073, 7.5942073, 6.8399997, 6.830519, 7....   \n",
            "4  [16.454008, 16.203999, 17.643673, 18.359999, 1...   \n",
            "\n",
            "                          destination_windspeed_100m  \\\n",
            "0  [21.626984, 21.599998, 35.65454, 43.9436, 44.2...   \n",
            "1  [22.768398, 18.345877, 16.575644, 16.62249, 15...   \n",
            "2  [24.066206, 27.257967, 40.377815, 36.204617, 2...   \n",
            "3  [18.228943, 17.81909, 16.75064, 15.517629, 17....   \n",
            "4  [32.09052, 32.072342, 33.21573, 33.528355, 31....   \n",
            "\n",
            "                       destination_winddirection_10m  \\\n",
            "0  [180.0, 271.78986, 249.92838, 264.5227, 266.08...   \n",
            "1  [97.43131, 85.76369, 65.55606, 56.976128, 54.4...   \n",
            "2  [229.18501, 230.82635, 243.01984, 246.13982, 2...   \n",
            "3  [174.55975, 174.55975, 180.0, 161.56496, 109.2...   \n",
            "4  [169.91946, 178.727, 181.16911, 180.0, 185.946...   \n",
            "\n",
            "                      destination_winddirection_100m  \\\n",
            "0  [182.86235, 270.0, 253.57774, 268.12216, 268.6...   \n",
            "1  [108.43504, 105.945465, 92.4895, 85.03035, 85....   \n",
            "2  [235.359, 236.3099, 248.00882, 250.84428, 243....   \n",
            "3  [189.0902, 188.13002, 188.65247, 176.00917, 13...   \n",
            "4  [176.78458, 182.5733, 184.351, 183.0774, 189.2...   \n",
            "\n",
            "                           destination_windgusts_10m  \n",
            "0  [38.16, 20.880001, 32.399998, 44.639996, 47.16...  \n",
            "1  [16.919998, 15.119999, 15.119999, 14.04, 14.04...  \n",
            "2  [19.08, 21.96, 41.760002, 47.16, 43.56, 23.4, ...  \n",
            "3  [14.4, 14.4, 14.04, 13.32, 13.32, 16.919998, 1...  \n",
            "4  [26.28, 26.64, 27.72, 29.16, 29.88, 27.72, 27....  \n",
            "\n",
            "[5 rows x 30 columns]\n"
          ]
        }
      ]
    },
    {
      "cell_type": "code",
      "source": [
        "# Write the cleaned data to a new csv\n",
        "\n",
        "df.to_csv('flight_data_with_weather.csv', index=False)\n",
        "\n",
        "print(\"Data saved to 'flight_data_with_weather.csv'\")"
      ],
      "metadata": {
        "id": "byuhgF6i22Gn",
        "outputId": "52b48916-8a29-4b06-a203-691016940738",
        "colab": {
          "base_uri": "https://localhost:8080/"
        }
      },
      "execution_count": 13,
      "outputs": [
        {
          "output_type": "stream",
          "name": "stdout",
          "text": [
            "Data saved to 'flight_data_with_weather.csv'\n"
          ]
        }
      ]
    }
  ]
}