{
  "nbformat": 4,
  "nbformat_minor": 0,
  "metadata": {
    "colab": {
      "provenance": [],
      "include_colab_link": true
    },
    "kernelspec": {
      "name": "python3",
      "display_name": "Python 3"
    },
    "language_info": {
      "name": "python"
    }
  },
  "cells": [
    {
      "cell_type": "markdown",
      "metadata": {
        "id": "view-in-github",
        "colab_type": "text"
      },
      "source": [
        "<a href=\"https://colab.research.google.com/github/haraldriisager/ML-Project/blob/weather-api/Notebook.ipynb\" target=\"_parent\"><img src=\"https://colab.research.google.com/assets/colab-badge.svg\" alt=\"Open In Colab\"/></a>"
      ]
    },
    {
      "cell_type": "code",
      "source": [
        "!pip install gdown\n",
        "!pip install openmeteo-requests\n",
        "!pip install requests-cache retry-requests numpy pandas"
      ],
      "metadata": {
        "id": "LWXG8x_1elMA"
      },
      "execution_count": null,
      "outputs": []
    },
    {
      "cell_type": "code",
      "source": [
        "import gdown\n",
        "import pandas as pd\n",
        "import openmeteo_requests\n",
        "import requests_cache\n",
        "from retry_requests import retry\n",
        "from datetime import datetime, timedelta"
      ],
      "metadata": {
        "id": "hITlT10JOT9y"
      },
      "execution_count": 26,
      "outputs": []
    },
    {
      "cell_type": "code",
      "source": [
        "# Import Flight Delay data set\n",
        "\n",
        "file_id = '14aF7ZORUZFGKoAG7IE9Cd6vjTLtU2ytz'\n",
        "gdown.download(f'https://drive.google.com/uc?id={file_id}', 'data.csv', quiet=False)\n",
        "df = pd.read_csv('data.csv')\n",
        "\n",
        "print(df.columns)"
      ],
      "metadata": {
        "id": "xrsZyQIgLrt2"
      },
      "execution_count": null,
      "outputs": []
    },
    {
      "cell_type": "code",
      "source": [
        "# Import Airport locations data set\n",
        "\n",
        "file_id = '1eK1b3XX3jl-9XtQrH-_924YjV3rlqUFB'\n",
        "gdown.download(f'https://drive.google.com/uc?id={file_id}', 'airport_locations.csv', quiet=False)\n",
        "airport_locations = pd.read_csv('airport_locations.csv', delimiter=';')\n",
        "airport_locations = airport_locations[['Airport Code', 'Latitude', 'Longitude']].dropna()\n",
        "airport_locations = airport_locations.set_index('Airport Code').to_dict(orient='index')"
      ],
      "metadata": {
        "id": "N1vRDaQRSsSn"
      },
      "execution_count": null,
      "outputs": []
    },
    {
      "cell_type": "code",
      "source": [
        "# Append the origin and destination coordinates to the data set\n",
        "\n",
        "def get_airport_coordinates(airport_code):\n",
        "  if airport_code in airport_locations:\n",
        "    return airport_locations[airport_code]['Latitude'], airport_locations[airport_code]['Longitude']\n",
        "  return None, None\n",
        "\n",
        "df[\"ORIGIN_LAT\"], df[\"ORIGIN_LONG\"] = zip(*df[\"ORIGIN\"].apply(get_airport_coordinates))\n",
        "df[\"DEST_LAT\"], df[\"DEST_LONG\"] = zip(*df[\"DEST\"].apply(get_airport_coordinates))"
      ],
      "metadata": {
        "id": "lEAMiXh8Rzmq"
      },
      "execution_count": 38,
      "outputs": []
    },
    {
      "cell_type": "code",
      "source": [
        "# Setup the Open-Meteo API client with cache and retry on error\n",
        "cache_session = requests_cache.CachedSession('.cache', expire_after = -1)\n",
        "retry_session = retry(cache_session, retries = 5, backoff_factor = 0.2)\n",
        "openmeteo = openmeteo_requests.Client(session = retry_session)\n",
        "url = \"https://archive-api.open-meteo.com/v1/archive\""
      ],
      "metadata": {
        "id": "7MGV7mZmKd4K"
      },
      "execution_count": 39,
      "outputs": []
    },
    {
      "cell_type": "code",
      "source": [
        "def get_weather_data(date, time, latitude, longitude):\n",
        "\n",
        "  flight_datetime = datetime.strptime(f\"{date} {time}\", \"%Y-%m-%d %H%M\")\n",
        "  start_date = flight_datetime.strftime(\"%Y-%m-%d\")\n",
        "  end_date = (flight_datetime + timedelta(hours=1)).strftime(\"%Y-%m-%d\")\n",
        "\n",
        "  params = {\n",
        "    \"latitude\": latitude,\n",
        "    \"longitude\": longitude,\n",
        "    \"start_date\": date,\n",
        "    \"end_date\": date,\n",
        "    \"hourly\": [\n",
        "        \"temperature_2m\",\n",
        "        \"precipitation\",\n",
        "        \"rain\",\n",
        "        \"snowfall\",\n",
        "        \"weather_code\",\n",
        "        \"windspeed_10m\",\n",
        "        \"windspeed_100m\",\n",
        "        \"winddirection_10m\",\n",
        "        \"winddirection_100m\",\n",
        "        \"windgusts_10m\",\n",
        "    ],\n",
        "    \"timezone\": \"auto\"\n",
        "  }\n",
        "\n",
        "  responses = openmeteo.weather_api(url, params=params)\n",
        "\n",
        "  if responses and isinstance(responses, list):\n",
        "    response = responses[0]\n",
        "    hourly_data = response.Hourly() if response else None\n",
        "  else:\n",
        "    hourly_data = None\n",
        "\n",
        "  if hourly_data:\n",
        "    hourly_variables = list(map(lambda i: hourly_data.Variables(i), range(0, hourly_data.VariablesLength())))\n",
        "\n",
        "    weather_data = {}\n",
        "\n",
        "    try:\n",
        "        weather_data[\"temperature_2m\"] = next(\n",
        "            filter(lambda x: x.Variable() == Variable.temperature and x.Altitude() == 2, hourly_variables)\n",
        "        ).ValuesAsNumpy()\n",
        "        weather_data[\"precipitation\"] = next(\n",
        "            filter(lambda x: x.Variable() == Variable.precipitation, hourly_variables)\n",
        "        ).ValuesAsNumpy()\n",
        "        weather_data[\"rain\"] = next(\n",
        "            filter(lambda x: x.Variable() == Variable.rain, hourly_variables)\n",
        "        ).ValuesAsNumpy()\n",
        "        weather_data[\"snowfall\"] = next(\n",
        "            filter(lambda x: x.Variable() == Variable.snowfall, hourly_variables)\n",
        "        ).ValuesAsNumpy()\n",
        "        weather_data[\"windspeed_10m\"] = next(\n",
        "            filter(lambda x: x.Variable() == Variable.wind_speed and x.Altitude() == 10, hourly_variables)\n",
        "        ).ValuesAsNumpy()\n",
        "        weather_data[\"windspeed_100m\"] = next(\n",
        "            filter(lambda x: x.Variable() == Variable.wind_speed and x.Altitude() == 100, hourly_variables)\n",
        "        ).ValuesAsNumpy()\n",
        "        weather_data[\"winddirection_10m\"] = next(\n",
        "            filter(lambda x: x.Variable() == Variable.wind_direction and x.Altitude() == 10, hourly_variables)\n",
        "        ).ValuesAsNumpy()\n",
        "        weather_data[\"winddirection_100m\"] = next(\n",
        "            filter(lambda x: x.Variable() == Variable.wind_direction and x.Altitude() == 100, hourly_variables)\n",
        "        ).ValuesAsNumpy()\n",
        "        weather_data[\"windgusts_10m\"] = next(\n",
        "            filter(lambda x: x.Variable() == Variable.wind_gusts and x.Altitude() == 10, hourly_variables)\n",
        "        ).ValuesAsNumpy()\n",
        "    except StopIteration:\n",
        "        print(\"One or more weather variables were not found in the response.\")\n",
        "        return None\n",
        "\n",
        "    return weather_data\n",
        "\n",
        "  return None"
      ],
      "metadata": {
        "id": "4dKGrj2bMgjl"
      },
      "execution_count": 52,
      "outputs": []
    },
    {
      "cell_type": "code",
      "source": [
        "# Append the weather data to the data set\n",
        "\n",
        "origin_weather_data = []\n",
        "destination_weather_data = []\n",
        "\n",
        "for _, row in df.iterrows():\n",
        "  origin_weather = get_weather_data(row[\"FL_DATE\"], row[\"CRS_DEP_TIME\"], row[\"ORIGIN_LAT\"], row[\"ORIGIN_LONG\"])\n",
        "  destination_weather = get_weather_data(row[\"FL_DATE\"], row[\"CRS_ARR_TIME\"], row[\"DEST_LAT\"], row[\"DEST_LONG\"])\n",
        "\n",
        "  origin_weather_data.append(origin_weather)\n",
        "  destination_weather_data.append(destination_weather)\n",
        "\n",
        "origin_weather_df = pd.DataFrame(origin_weather_data).add_prefix('origin_')\n",
        "destination_weather_df = pd.DataFrame(destination_weather_data).add_prefix('destination_')\n",
        "\n",
        "df = pd.concat([df, origin_weather_df, destination_weather_df], axis=1)\n",
        "\n",
        "print(df.head())"
      ],
      "metadata": {
        "id": "tl8tlDLXRIeN"
      },
      "execution_count": null,
      "outputs": []
    },
    {
      "cell_type": "code",
      "source": [
        "# Clean data so that only the desired features are present\n",
        "\n",
        "required_columns = [\n",
        "    'FlightDate',\n",
        "    'Airline',\n",
        "    'FlightNumber',\n",
        "    'Origin',\n",
        "    'Destination',\n",
        "    'ScheduledDeparture',\n",
        "    'ScheduledArrival',\n",
        "    'ScheduledElapsedTime',\n",
        "    'Distance',\n",
        "    'DepartureDelay',\n",
        "    'ArrivalDelay',\n",
        "    'DelayDueWeather'\n",
        "]\n",
        "\n",
        "weather_columns = [col for col in df.columns if col.startswith('origin_') or col.startswith('destination_')]\n",
        "\n",
        "final_columns = required_columns + weather_columns\n",
        "\n",
        "df_cleaned = df[final_columns]\n",
        "\n",
        "print(df_cleaned.head())"
      ],
      "metadata": {
        "id": "4y279QsNaPyO"
      },
      "execution_count": null,
      "outputs": []
    }
  ]
}