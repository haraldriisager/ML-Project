{
  "nbformat": 4,
  "nbformat_minor": 0,
  "metadata": {
    "colab": {
      "provenance": [],
      "include_colab_link": true
    },
    "kernelspec": {
      "name": "python3",
      "display_name": "Python 3"
    },
    "language_info": {
      "name": "python"
    }
  },
  "cells": [
    {
      "cell_type": "markdown",
      "metadata": {
        "id": "view-in-github",
        "colab_type": "text"
      },
      "source": [
        "<a href=\"https://colab.research.google.com/github/haraldriisager/ML-Project/blob/evan/Notebook.ipynb\" target=\"_parent\"><img src=\"https://colab.research.google.com/assets/colab-badge.svg\" alt=\"Open In Colab\"/></a>"
      ]
    },
    {
      "cell_type": "code",
      "source": [
        "!pip install gdown\n",
        "import gdown\n",
        "import pandas as pd\n",
        "\n",
        "file_id = '1Uf3q-CoSVK84kogmfTAtvIZ3k8crjN1d'\n",
        "gdown.download(f'https://drive.google.com/uc?id={file_id}', 'data.csv', quiet=False)\n",
        "df = pd.read_csv('data.csv')\n",
        "\n",
        "print(df.head())"
      ],
      "metadata": {
        "id": "LWXG8x_1elMA"
      },
      "execution_count": null,
      "outputs": []
    },
    {
      "cell_type": "code",
      "source": [
        "# Define delay classification based on DelayMinutes\n",
        "def classify_delay(delay_minutes):\n",
        "    if delay_minutes <= 15:\n",
        "        return 'No delay'\n",
        "    elif 15 < delay_minutes <= 30:\n",
        "        return 'Slight delay'\n",
        "    elif 30 < delay_minutes <= 60:\n",
        "        return 'Moderate delay'\n",
        "    else:\n",
        "        return 'Severe delay'\n",
        "\n",
        "# Apply classification function\n",
        "df['delay_category'] = df['DelayMinutes'].apply(classify_delay)"
      ],
      "metadata": {
        "id": "hITlT10JOT9y"
      },
      "execution_count": null,
      "outputs": []
    },
    {
      "cell_type": "code",
      "source": [
        "from sklearn.preprocessing import LabelEncoder, StandardScaler\n",
        "\n",
        "# Select relevant features\n",
        "features = ['Airline', 'FlightNumber', 'Origin', 'Destination', 'ScheduledDeparture',\n",
        "            'ScheduledArrival', 'Distance', 'DelayReason', 'AircraftType']\n",
        "# Create a copy of the DataFrame to avoid SettingWithCopyWarning\n",
        "df = df[features + ['delay_category']].copy()\n",
        "\n",
        "# Encode categorical columns\n",
        "label_encoder = LabelEncoder()\n",
        "for col in ['Airline', 'Origin', 'Destination', 'DelayReason', 'AircraftType']:\n",
        "    df.loc[:, col] = label_encoder.fit_transform(df[col].fillna(\"Unknown\"))\n",
        "\n",
        "# Convert ScheduledDeparture and ScheduledArrival to datetime\n",
        "df.loc[:, 'ScheduledDeparture'] = pd.to_datetime(df['ScheduledDeparture'])\n",
        "df.loc[:, 'ScheduledArrival'] = pd.to_datetime(df['ScheduledArrival'])\n",
        "\n",
        "# Feature engineering for departure time\n",
        "df.loc[:, 'DepartureHour'] = df['ScheduledDeparture'].dt.hour\n",
        "df.loc[:, 'ArrivalHour'] = df['ScheduledArrival'].dt.hour\n",
        "\n",
        "# Standardize numerical columns\n",
        "scaler = StandardScaler()\n",
        "df[['FlightNumber', 'Distance', 'DepartureHour', 'ArrivalHour']] = scaler.fit_transform(\n",
        "    df[['FlightNumber', 'Distance', 'DepartureHour', 'ArrivalHour']]\n",
        ")"
      ],
      "metadata": {
        "id": "ueUAx84BZu1t"
      },
      "execution_count": null,
      "outputs": []
    },
    {
      "cell_type": "code",
      "source": [
        "from sklearn.model_selection import train_test_split\n",
        "\n",
        "# Define features (X) and target (y)\n",
        "X = df.drop('delay_category', axis=1)\n",
        "y = df['delay_category']\n",
        "\n",
        "# Split into training and test sets\n",
        "X_train, X_test, y_train, y_test = train_test_split(X, y, test_size=0.2, random_state=42)"
      ],
      "metadata": {
        "id": "gxu3K4ZZZ2OX"
      },
      "execution_count": null,
      "outputs": []
    },
    {
      "cell_type": "code",
      "source": [
        "from sklearn.ensemble import RandomForestClassifier\n",
        "\n",
        "# Drop datetime columns if they are still in X_train\n",
        "X_train = X_train.drop(columns=['ScheduledDeparture', 'ScheduledArrival'], errors='ignore')\n",
        "\n",
        "# Verify all columns are numeric\n",
        "print(X_train.dtypes)\n",
        "\n",
        "rf_model = RandomForestClassifier(n_estimators=50, max_depth=10, random_state=42)\n",
        "rf_model.fit(X_train, y_train)"
      ],
      "metadata": {
        "id": "RCOlbwaXZ6Wv"
      },
      "execution_count": null,
      "outputs": []
    },
    {
      "cell_type": "code",
      "source": [
        "from sklearn.metrics import classification_report, confusion_matrix\n",
        "\n",
        "X_train = X_train.drop(['ScheduledArrival', 'ScheduledDeparture'], axis=1, errors='ignore')\n",
        "X_test = X_test.drop(['ScheduledArrival', 'ScheduledDeparture'], axis=1, errors='ignore')\n",
        "\n",
        "# Now you should be able to predict without errors\n",
        "y_pred = rf_model.predict(X_test)\n",
        "\n",
        "# Evaluate predictions\n",
        "print(classification_report(y_test, y_pred))\n",
        "print(confusion_matrix(y_test, y_pred))"
      ],
      "metadata": {
        "id": "wTitnn_5Z-UT"
      },
      "execution_count": null,
      "outputs": []
    }
  ]
}